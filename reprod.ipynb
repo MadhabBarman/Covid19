{
  "nbformat": 4,
  "nbformat_minor": 0,
  "metadata": {
    "kernelspec": {
      "display_name": "Python 3",
      "language": "python",
      "name": "python3"
    },
    "language_info": {
      "codemirror_mode": {
        "name": "ipython",
        "version": 3
      },
      "file_extension": ".py",
      "mimetype": "text/x-python",
      "name": "python",
      "nbconvert_exporter": "python",
      "pygments_lexer": "ipython3",
      "version": "3.7.1"
    },
    "colab": {
      "name": "reprod.ipynb",
      "provenance": [],
      "collapsed_sections": [],
      "include_colab_link": true
    }
  },
  "cells": [
    {
      "cell_type": "markdown",
      "metadata": {
        "id": "view-in-github",
        "colab_type": "text"
      },
      "source": [
        "<a href=\"https://colab.research.google.com/github/MadhabBarman/Epidemic-Control-Model/blob/master/reprod.ipynb\" target=\"_parent\"><img src=\"https://colab.research.google.com/assets/colab-badge.svg\" alt=\"Open In Colab\"/></a>"
      ]
    },
    {
      "cell_type": "code",
      "metadata": {
        "id": "VbVlkmtA_xqw",
        "colab_type": "code",
        "colab": {
          "base_uri": "https://localhost:8080/",
          "height": 124
        },
        "outputId": "e8cf05e5-3f7f-48fa-ce7e-b8b3a79b290b"
      },
      "source": [
        "!git clone https://github.com/MadhabBarman/Epidemic-Control-Model.git"
      ],
      "execution_count": 1,
      "outputs": [
        {
          "output_type": "stream",
          "text": [
            "Cloning into 'Epidemic-Control-Model'...\n",
            "remote: Enumerating objects: 58, done.\u001b[K\n",
            "remote: Counting objects: 100% (58/58), done.\u001b[K\n",
            "remote: Compressing objects: 100% (55/55), done.\u001b[K\n",
            "remote: Total 58 (delta 8), reused 0 (delta 0), pack-reused 0\u001b[K\n",
            "Unpacking objects: 100% (58/58), done.\n"
          ],
          "name": "stdout"
        }
      ]
    },
    {
      "cell_type": "code",
      "metadata": {
        "id": "C6L1DZ_tAG8A",
        "colab_type": "code",
        "colab": {
          "base_uri": "https://localhost:8080/",
          "height": 35
        },
        "outputId": "2462c662-9c9f-4aa9-9090-2cfe70796e53"
      },
      "source": [
        "cd Epidemic-Control-Model/"
      ],
      "execution_count": 2,
      "outputs": [
        {
          "output_type": "stream",
          "text": [
            "/content/Epidemic-Control-Model\n"
          ],
          "name": "stdout"
        }
      ]
    },
    {
      "cell_type": "code",
      "metadata": {
        "id": "boQjEoMrAA9N",
        "colab_type": "code",
        "colab": {}
      },
      "source": [
        "import numpy as np\n",
        "import numpy.linalg as la\n",
        "from scipy.io import savemat, loadmat\n",
        "import matplotlib.pyplot as plt\n",
        "import pandas as pd\n",
        "M = 16  #Total number of age-groups \n",
        "my_data = np.genfromtxt('data/age_structures/India-2019.csv', delimiter=',', skip_header=1)\n",
        "aM, aF = my_data[:, 1], my_data[:, 2]\n",
        "Ni=aM+aF;   Ni=Ni[0:M];  N=np.sum(Ni)\n",
        "######################### contact matrices###################################\n",
        "#Home contact Matrix\n",
        "my_data = pd.read_excel('data/contact_matrices_152_countries/MUestimates_home_1.xlsx', sheet_name='India',index_col=None)\n",
        "CH = np.array(my_data)\n",
        "#Workspace Contact Matrix\n",
        "my_data = pd.read_excel('data/contact_matrices_152_countries/MUestimates_work_1.xlsx', sheet_name='India',index_col=None)\n",
        "CW = np.array(my_data)\n",
        "#School Conact Matrix\n",
        "my_data = pd.read_excel('data/contact_matrices_152_countries/MUestimates_school_1.xlsx', sheet_name='India',index_col=None)\n",
        "CS = np.array(my_data)\n",
        "#Others Contact Matrix\n",
        "my_data = pd.read_excel('data/contact_matrices_152_countries/MUestimates_other_locations_1.xlsx', sheet_name='India',index_col=None)\n",
        "CO = np.array(my_data)\n",
        "CM = CH + CW + CS + CO"
      ],
      "execution_count": 6,
      "outputs": []
    },
    {
      "cell_type": "code",
      "metadata": {
        "id": "7-F_0g62_xq3",
        "colab_type": "code",
        "colab": {}
      },
      "source": [
        "def r0_fun(beta, rho,xi, alpha_1, alpha_2, phi_qh, q, g_as, d_ar, phi_sh, d_sr, d_hr, eta, fsa, fsh):\n",
        "    alpha_3 = 1-(alpha_1+alpha_2)\n",
        "    F = np.array([[xi, 0, 0, 0, 0], [-alpha_1*xi, phi_qh, 0, 0, 0], [-alpha_2*xi, 0, g_as+d_ar, 0, 0],\\\n",
        "    [-alpha_3*xi,  0, -g_as, phi_sh+d_sr, 0], [0, -q*phi_qh, 0, -phi_sh, d_hr+eta]])\n",
        "    Id = np.identity(M)\n",
        "    Sigma = np.kron(F, Id)\n",
        "    L0 = np.zeros((M, M))\n",
        "    for i in range(M):\n",
        "        for j in range(M):\n",
        "            L0[i,j]=CM[i,j]*Ni[i]/Ni[j]\n",
        "    T = np.zeros_like(Sigma)\n",
        "    T[0:M, 2*M:3*M] = beta*L0\n",
        "    T[0:M, 3*M:4*M] = fsa*beta*L0\n",
        "    T[0:M, 4*M:5*M] = fsh*beta*(1-rho)*L0\n",
        "    Sigma_inv = la.inv(Sigma)\n",
        "    R = np.dot(T, Sigma_inv)\n",
        "    #plt.spy(Sigma)\n",
        "    return np.max(np.linalg.eigvals(R))"
      ],
      "execution_count": 9,
      "outputs": []
    },
    {
      "cell_type": "markdown",
      "metadata": {
        "id": "2UjkNrhnBoLy",
        "colab_type": "text"
      },
      "source": [
        "**Basic reproduction number $R_0$**"
      ]
    },
    {
      "cell_type": "code",
      "metadata": {
        "id": "YqvZwwpB_xq8",
        "colab_type": "code",
        "colab": {
          "base_uri": "https://localhost:8080/",
          "height": 35
        },
        "outputId": "964c4f4a-edb6-4eef-af4a-115b8f69f146"
      },
      "source": [
        "if __name__ == \"__main__\":\n",
        "    alpha_d = 0.05    #fractional part from isolation\n",
        "    beta  = 0.37      #rate if infection, feng\n",
        "    rho = 0.75        #control parameter of H\n",
        "    xi = 0.29         #recovery rate of E\n",
        "    alpha_1 = 0.7    #fractional part of E-->Q\n",
        "    alpha_2 = 0.2     #fractional part of E-->A\n",
        "    alpha_3 = 1-(alpha_1+alpha_2)    #fractional part of E-->I\n",
        "    phi_qh  = 1/10    #Recovery rate of Q\n",
        "    q = 0.1           #fractional part of Q-->H\n",
        "    g_as  = 0.1      #rate A-->I\n",
        "    d_ar  = 2./7      #Recovery rate of A\n",
        "    phi_sh = 1./2     #rate I-->H \n",
        "    d_sr =  1./7       #Recovery rate of I\n",
        "    d_hr = (1-alpha_d)/10           #Recovery rate of H \n",
        "    eta = alpha_d/10  #Death rate\n",
        "    fsa = 0.1        #Fraction of the contact matrix Cs \n",
        "    fsh = 0.1        #Fraction of the contact matrix Ch \n",
        "    u = r0_fun(beta, rho,xi, alpha_1, alpha_2, phi_qh, q, g_as, d_ar, phi_sh, d_sr, d_hr, eta, fsa, fsh)\n",
        "    print(u)"
      ],
      "execution_count": 11,
      "outputs": [
        {
          "output_type": "stream",
          "text": [
            "(4.230353234752268+0j)\n"
          ],
          "name": "stdout"
        }
      ]
    }
  ]
}